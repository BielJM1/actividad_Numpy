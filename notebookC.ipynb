{
  "nbformat": 4,
  "nbformat_minor": 0,
  "metadata": {
    "colab": {
      "provenance": []
    },
    "kernelspec": {
      "name": "python3",
      "display_name": "Python 3"
    },
    "language_info": {
      "name": "python"
    }
  },
  "cells": [
    {
      "cell_type": "code",
      "execution_count": null,
      "metadata": {
        "id": "168nmRGafC8r"
      },
      "outputs": [],
      "source": [
        "import numpy as np\n",
        "import matplotlib.pylab as plt"
      ]
    },
    {
      "cell_type": "markdown",
      "source": [
        "#Volcado de datos\n",
        "A diferencia de los datasets anteriores, el único \"problema\" que presenta este es la combinación de columnas con datos númericos y columnas con texto, por lo que podremos cargar los datos directamente.\n",
        "\n",
        "En este caso, lo que nos interesará estudiar es la evolución del gasto público en porcentaje del PIB por paises y por años, usando distintos indicadores. Para ello, guardaremos en la variable data los datos sobre año y gasto público, que se encuentran en las columnas 8 y 9 de nuestro dataset, y guardaremos en la variable col_paises la columna con los nombres de los paises, que se encuetran en la columna 7. En ambos casos nos saltearemos la primera fila, que contiene los nombres de las columnas, pero en el segundo tendremos que hacer dtype=str (ya que los datos son texto)."
      ],
      "metadata": {
        "id": "FGHhFq9xjGWJ"
      }
    },
    {
      "cell_type": "code",
      "source": [
        "data=np.loadtxt('./data/gov_10a_exp_page_linear.csv', delimiter=\",\", usecols=(8,9), skiprows=1)\n",
        "print(data)\n",
        "\n",
        "col_paises=np.loadtxt('./data/gov_10a_exp_page_linear.csv', delimiter=\",\", usecols=(7), skiprows=1, dtype=str)\n",
        "print(col_paises)"
      ],
      "metadata": {
        "id": "vlhsyIScjGsg"
      },
      "execution_count": null,
      "outputs": []
    },
    {
      "cell_type": "markdown",
      "source": [
        "Siguiendo la misma idea que en el notebookB, creamos un diccionario que nos diga los índices de la filas en las que encontramos cada pais:"
      ],
      "metadata": {
        "id": "mJltS2Z-a4Kf"
      }
    },
    {
      "cell_type": "code",
      "source": [
        "#Listado de paises\n",
        "paises=np.unique(col_paises)\n",
        "#Diccionario con los indices que corresponde a cada pais\n",
        "ind_dicc={}\n",
        "for i in range(len(paises)):\n",
        "  ind_dicc[paises[i]]=np.where(col_paises==paises[i])\n",
        "print(ind_dicc)\n"
      ],
      "metadata": {
        "colab": {
          "base_uri": "https://localhost:8080/"
        },
        "id": "oh6FKQ-Lm6cv",
        "outputId": "d9c673a3-dc58-470a-c8c4-f29fdb70ea8f"
      },
      "execution_count": null,
      "outputs": [
        {
          "output_type": "stream",
          "name": "stdout",
          "text": [
            "{'AT': (array([0, 1, 2, 3, 4, 5, 6, 7, 8, 9]),), 'BE': (array([10, 11, 12, 13, 14, 15, 16, 17, 18]),), 'BG': (array([19, 20, 21, 22, 23, 24, 25, 26, 27]),), 'CY': (array([28, 29, 30, 31, 32, 33, 34, 35, 36]),), 'CZ': (array([37, 38, 39, 40, 41, 42, 43, 44, 45]),), 'DE': (array([46, 47, 48, 49, 50, 51, 52, 53, 54]),), 'DK': (array([55, 56, 57, 58, 59, 60, 61, 62, 63, 64]),), 'EA19': (array([65, 66, 67, 68, 69, 70, 71, 72, 73]),), 'EE': (array([74, 75, 76, 77, 78, 79, 80, 81, 82]),), 'EL': (array([83, 84, 85, 86, 87, 88, 89, 90, 91]),), 'ES': (array([ 92,  93,  94,  95,  96,  97,  98,  99, 100]),), 'EU27_2020': (array([101, 102, 103, 104, 105, 106, 107, 108, 109]),), 'FI': (array([110, 111, 112, 113, 114, 115, 116, 117, 118]),), 'FR': (array([119, 120, 121, 122, 123, 124, 125, 126, 127]),), 'HR': (array([128, 129, 130, 131, 132, 133, 134, 135, 136]),), 'HU': (array([137, 138, 139, 140, 141, 142, 143, 144, 145]),), 'IE': (array([146, 147, 148, 149, 150, 151, 152, 153, 154]),), 'IS': (array([155, 156, 157, 158, 159, 160, 161, 162, 163]),), 'IT': (array([164, 165, 166, 167, 168, 169, 170, 171, 172]),), 'LT': (array([173, 174, 175, 176, 177, 178, 179, 180, 181]),), 'LU': (array([182, 183, 184, 185, 186, 187, 188, 189, 190]),), 'LV': (array([191, 192, 193, 194, 195, 196, 197, 198, 199]),), 'MT': (array([200, 201, 202, 203, 204, 205, 206, 207, 208]),), 'NL': (array([209, 210, 211, 212, 213, 214, 215, 216, 217, 218]),), 'NO': (array([219, 220, 221, 222, 223, 224, 225, 226, 227]),), 'PL': (array([228, 229, 230, 231, 232, 233, 234, 235, 236]),), 'PT': (array([237, 238, 239, 240, 241, 242, 243, 244, 245]),), 'RO': (array([246, 247, 248, 249, 250, 251, 252, 253, 254]),), 'SE': (array([255, 256, 257, 258, 259, 260, 261, 262, 263]),), 'SI': (array([264, 265, 266, 267, 268, 269, 270, 271, 272]),), 'SK': (array([273, 274, 275, 276, 277, 278, 279, 280, 281]),)}\n"
          ]
        }
      ]
    },
    {
      "cell_type": "markdown",
      "source": [
        "#Análisis de los datos\n",
        "El primer indicador que estudiaremos en este caso es la media y desviación típica del gasto público, en unidades de porcentaje del PIB, por paises:"
      ],
      "metadata": {
        "id": "IUOXvzN7bO1u"
      }
    },
    {
      "cell_type": "code",
      "source": [
        "#Media y desviacion del gasto puiblico por paises del 2012 a 2021\n",
        "print(\"En unidades de porcentaje del PIB:\")\n",
        "for i in range(len(paises)):\n",
        "  media=round(np.mean(data[ind_dicc[paises[i]],1]), 2)\n",
        "  desv=round(np.std(data[ind_dicc[paises[i]],1]), 2)\n",
        "  print(f'{paises[i]} tiene una media de gasto de {media} y una desviación típica de {desv}')"
      ],
      "metadata": {
        "id": "Jes6V2D2roUt",
        "colab": {
          "base_uri": "https://localhost:8080/"
        },
        "outputId": "bc0f1981-2a37-49cf-e6ec-0c9c172304fa"
      },
      "execution_count": null,
      "outputs": [
        {
          "output_type": "stream",
          "name": "stdout",
          "text": [
            "En unidades de porcentaje del PIB:\n",
            "AT tiene una media de gasto de 51.58 y una desviación típica de 2.66\n",
            "BE tiene una media de gasto de 54.47 y una desviación típica de 2.39\n",
            "BG tiene una media de gasto de 37.72 y una desviación típica de 3.13\n",
            "CY tiene una media de gasto de 41.71 y una desviación típica de 3.81\n",
            "CZ tiene una media de gasto de 42.18 y una desviación típica de 2.39\n",
            "DE tiene una media de gasto de 45.21 y una desviación típica de 2.0\n",
            "DK tiene una media de gasto de 53.1 y una desviación típica de 2.62\n",
            "EA19 tiene una media de gasto de 48.86 y una desviación típica de 2.01\n",
            "EE tiene una media de gasto de 39.8 y una desviación típica de 2.22\n",
            "EL tiene una media de gasto de 53.21 y una desviación típica de 5.14\n",
            "ES tiene una media de gasto de 44.81 y una desviación típica de 3.5\n",
            "EU27_2020 tiene una media de gasto de 48.49 y una desviación típica de 1.97\n",
            "FI tiene una media de gasto de 55.48 y una desviación típica de 1.61\n",
            "FR tiene una media de gasto de 57.12 y una desviación típica de 1.7\n",
            "HR tiene una media de gasto de 47.91 y una desviación típica de 2.69\n",
            "HU tiene una media de gasto de 48.49 y una desviación típica de 2.05\n",
            "IE tiene una media de gasto de 31.22 y una desviación típica de 6.62\n",
            "IS tiene una media de gasto de 45.71 y una desviación típica de 2.2\n",
            "IT tiene una media de gasto de 50.52 y una desviación típica de 2.52\n",
            "LT tiene una media de gasto de 35.64 y una desviación típica de 2.7\n",
            "LU tiene una media de gasto de 41.94 y una desviación típica de 2.04\n",
            "LV tiene una media de gasto de 39.06 y una desviación típica de 1.51\n",
            "MT tiene una media de gasto de 38.89 y una desviación típica de 3.49\n",
            "NL tiene una media de gasto de 44.96 y una desviación típica de 2.07\n",
            "NO tiene una media de gasto de 49.36 y una desviación típica de 4.29\n",
            "PL tiene una media de gasto de 42.76 y una desviación típica de 2.21\n",
            "PT tiene una media de gasto de 47.1 y una desviación típica de 3.03\n",
            "RO tiene una media de gasto de 36.02 y una desviación típica de 2.1\n",
            "SE tiene una media de gasto de 50.3 y una desviación típica de 1.06\n",
            "SI tiene una media de gasto de 48.62 y una desviación típica de 5.05\n",
            "SK tiene una media de gasto de 42.38 y una desviación típica de 2.13\n"
          ]
        }
      ]
    },
    {
      "cell_type": "markdown",
      "source": [
        "También nos interesará saber cual es la evolución de la media y la desviación típica del gasto de todos los paises en los años:"
      ],
      "metadata": {
        "id": "Vn_UsRhablbO"
      }
    },
    {
      "cell_type": "code",
      "source": [
        "#Media y desviacion tipica del gasto por años\n",
        "lista_anyos=np.unique(data[:,0])\n",
        "media_anual=[]\n",
        "for i in lista_anyos:\n",
        "  ind_anyo=np.where(data[:,0]==i)\n",
        "  media=round(np.mean(data[ind_anyo,1]), 2)\n",
        "  media_anual.append(media)\n",
        "  desv=round(np.std(data[ind_anyo,1]), 2)\n",
        "  print(f'En el año {int(i)} hubo una media de gasto de {media} y una desviación típica de {desv}')"
      ],
      "metadata": {
        "colab": {
          "base_uri": "https://localhost:8080/"
        },
        "id": "FgiFFIeTugHT",
        "outputId": "40c8a791-c8e9-452d-8978-08f2cdf501e7"
      },
      "execution_count": null,
      "outputs": [
        {
          "output_type": "stream",
          "name": "stdout",
          "text": [
            "En el año 2012 hubo una media de gasto de 46.65 y una desviación típica de 6.33\n",
            "En el año 2013 hubo una media de gasto de 47.07 y una desviación típica de 7.09\n",
            "En el año 2014 hubo una media de gasto de 46.56 y una desviación típica de 6.15\n",
            "En el año 2015 hubo una media de gasto de 45.53 y una desviación típica de 6.55\n",
            "En el año 2016 hubo una media de gasto de 44.23 y una desviación típica de 6.76\n",
            "En el año 2017 hubo una media de gasto de 43.35 y una desviación típica de 6.73\n",
            "En el año 2018 hubo una media de gasto de 43.6 y una desviación típica de 6.27\n",
            "En el año 2019 hubo una media de gasto de 43.49 y una desviación típica de 6.38\n",
            "En el año 2020 hubo una media de gasto de 50.09 y una desviación típica de 6.85\n",
            "En el año 2021 hubo una media de gasto de 51.13 y una desviación típica de 3.84\n"
          ]
        }
      ]
    },
    {
      "cell_type": "markdown",
      "source": [
        "Veamos el gráfico de este segundo indicador:"
      ],
      "metadata": {
        "id": "TqddaXn4b52A"
      }
    },
    {
      "cell_type": "code",
      "source": [
        "#Gráfico de la evolucion del gasto medio anual\n",
        "fig, ax=plt.subplots()\n",
        "ax.set_xlabel(\"Año\")\n",
        "ax.set_ylabel(\"Gasto medio en porcentaje del PIB\")\n",
        "plt.suptitle(\"Gráfico del gasto medio anual\")\n",
        "ax.plot(lista_anyos, media_anual)"
      ],
      "metadata": {
        "colab": {
          "base_uri": "https://localhost:8080/",
          "height": 325
        },
        "id": "XM-fESoEwreM",
        "outputId": "73cbfb26-646f-40ce-e480-0c30758a7e3f"
      },
      "execution_count": null,
      "outputs": [
        {
          "output_type": "execute_result",
          "data": {
            "text/plain": [
              "[<matplotlib.lines.Line2D at 0x7f63e7e3fd60>]"
            ]
          },
          "metadata": {},
          "execution_count": 7
        },
        {
          "output_type": "display_data",
          "data": {
            "text/plain": [
              "<Figure size 432x288 with 1 Axes>"
            ],
            "image/png": "[encoded data removed]"
          },
          "metadata": {
            "needs_background": "light"
          }
        }
      ]
    },
    {
      "cell_type": "markdown",
      "source": [
        "Ahora queremos saber cuáles fueron los cuartiles del gasto público por año:"
      ],
      "metadata": {
        "id": "K_eBDuDmb-OW"
      }
    },
    {
      "cell_type": "code",
      "source": [
        "#Evolucion de los cuartiles de gasto\n",
        "Q1=[]\n",
        "mediana=[]\n",
        "Q3=[]\n",
        "for i in lista_anyos:\n",
        "  ind_anyo=np.where(data[:,0]==i)\n",
        "  q1=round(np.percentile(data[np.where(data[:,0]==i),1], 25), 2)\n",
        "  q2=round(np.percentile(data[np.where(data[:,0]==i),1], 50), 2)\n",
        "  q3=round(np.percentile(data[np.where(data[:,0]==i),1], 75), 2)\n",
        "  Q1.append(q1)\n",
        "  mediana.append(q2)\n",
        "  Q3.append(q3)\n",
        "  print(f'Los cuartiles en el año {int(i)} fueron: Q1={q1}  Q2={q2}  Q3={q3}')\n"
      ],
      "metadata": {
        "id": "ZuoLSnfeyej7",
        "colab": {
          "base_uri": "https://localhost:8080/"
        },
        "outputId": "9f7588bf-1b98-4cf9-8ea8-443645826c37"
      },
      "execution_count": null,
      "outputs": [
        {
          "output_type": "stream",
          "name": "stdout",
          "text": [
            "Los cuartiles en el año 2012 fueron: Q1=42.15  Q2=47.7  Q3=50.3\n",
            "Los cuartiles en el año 2013 fueron: Q1=41.9  Q2=46.0  Q3=51.3\n",
            "Los cuartiles en el año 2014 fueron: Q1=42.6  Q2=46.3  Q3=50.75\n",
            "Los cuartiles en el año 2015 fueron: Q1=40.5  Q2=45.7  Q3=49.8\n",
            "Los cuartiles en el año 2016 fueron: Q1=39.6  Q2=44.8  Q3=49.4\n",
            "Los cuartiles en el año 2017 fueron: Q1=39.1  Q2=44.2  Q3=48.65\n",
            "Los cuartiles en el año 2018 fueron: Q1=40.2  Q2=43.5  Q3=48.45\n",
            "Los cuartiles en el año 2019 fueron: Q1=40.05  Q2=43.3  Q3=48.2\n",
            "Los cuartiles en el año 2020 fueron: Q1=45.9  Q2=50.8  Q3=54.0\n",
            "Los cuartiles en el año 2021 fueron: Q1=48.7  Q2=50.8  Q3=53.4\n"
          ]
        }
      ]
    },
    {
      "cell_type": "markdown",
      "source": [
        "Veamos el gráfico de este tercer indicador:"
      ],
      "metadata": {
        "id": "I0iPsNTJcKn-"
      }
    },
    {
      "cell_type": "code",
      "source": [
        "#Grafico de la evolucion temporal de los cuartiles\n",
        "fig, ax=plt.subplots()\n",
        "ax.set_xlabel(\"Año\")\n",
        "ax.set_ylabel(\"Cuartiles de gasto\")\n",
        "plt.suptitle(\"Gráfico de los caurtiles de gasto anuales\")\n",
        "ax.plot(lista_anyos, Q1, label=\"Q1\")\n",
        "ax.plot(lista_anyos, mediana, label=\"Q2\")\n",
        "ax.plot(lista_anyos, Q3, label=\"Q3\")\n",
        "ax.legend()\n",
        "plt.show()"
      ],
      "metadata": {
        "colab": {
          "base_uri": "https://localhost:8080/",
          "height": 308
        },
        "id": "yyVhsYb_GSvy",
        "outputId": "5cea6345-55c2-4dd2-e2b6-da99189b5314"
      },
      "execution_count": null,
      "outputs": [
        {
          "output_type": "display_data",
          "data": {
            "text/plain": [
              "<Figure size 432x288 with 1 Axes>"
            ],
            "image/png": "[encoded data removed]"
          },
          "metadata": {
            "needs_background": "light"
          }
        }
      ]
    },
    {
      "cell_type": "markdown",
      "source": [
        "Finalmente, calcularemos el gasto máximo y mínimo de cada país, así como el año en que se dieron:"
      ],
      "metadata": {
        "id": "iuCR7x7Ecbl9"
      }
    },
    {
      "cell_type": "code",
      "source": [
        "#Gasto max y min por pais y anyo en que se dio\n",
        "lista_anyo_max=[]\n",
        "lista_anyo_min=[]\n",
        "for i in range(len(paises)):\n",
        "  max=round(np.max(data[ind_dicc[paises[i]],1]), 2)\n",
        "  anyo_max=data[np.where(data[ind_dicc[paises[i]][0],1]==max),0][0]\n",
        "  lista_anyo_max.append(anyo_max)\n",
        "  min=round(np.min(data[ind_dicc[paises[i]],1]), 2)\n",
        "  anyo_min=data[np.where(data[ind_dicc[paises[i]][0],1]==min),0][0]\n",
        "  lista_anyo_min.append(anyo_min)\n",
        "  print(f'{paises[i]} tuvo su gasto máximo en: {anyo_max} y fue de: {max}')\n",
        "  print(f'{paises[i]} tuvo su gasto mínimo en: {anyo_min} y fue de: {min}\\n')"
      ],
      "metadata": {
        "id": "WEToAMNMK5AS"
      },
      "execution_count": null,
      "outputs": []
    },
    {
      "cell_type": "markdown",
      "source": [
        "Veamos cuantos paises tuvieron su gasto máximo en cada año:"
      ],
      "metadata": {
        "id": "9LyvBscKcp1e"
      }
    },
    {
      "cell_type": "code",
      "source": [
        "#Calculo de la frecuencia de año para gasto maximo\n",
        "fr_max=np.unique(lista_anyo_max, return_counts=True)\n",
        "\n",
        "#Grafico de cuantos paises tuvieron su gasto max en ese anyo\n",
        "fig, ax=plt.subplots()\n",
        "ax.set_xlabel(\"Año\")\n",
        "ax.set_ylabel(\"Número paises\")\n",
        "plt.suptitle(\"Cantidad de paises que tuvieron el gasto máximo por años\")\n",
        "plt.bar(fr_max[0], fr_max[1], label=\"máximo\")\n",
        "plt.show()"
      ],
      "metadata": {
        "colab": {
          "base_uri": "https://localhost:8080/",
          "height": 308
        },
        "id": "S6AXT_wJNPJZ",
        "outputId": "fab2eb59-98a6-4304-cde6-3eeb42c47d64"
      },
      "execution_count": null,
      "outputs": [
        {
          "output_type": "display_data",
          "data": {
            "text/plain": [
              "<Figure size 432x288 with 1 Axes>"
            ],
            "image/png": "[encoded data removed]"
          },
          "metadata": {
            "needs_background": "light"
          }
        }
      ]
    }
  ]
}