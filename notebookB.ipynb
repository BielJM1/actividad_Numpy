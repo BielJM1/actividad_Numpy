{
  "nbformat": 4,
  "nbformat_minor": 0,
  "metadata": {
    "colab": {
      "provenance": []
    },
    "kernelspec": {
      "name": "python3",
      "display_name": "Python 3"
    },
    "language_info": {
      "name": "python"
    }
  },
  "cells": [
    {
      "cell_type": "markdown",
      "source": [
        "Importamos las librerías"
      ],
      "metadata": {
        "id": "KCmFualKyC-0"
      }
    },
    {
      "cell_type": "code",
      "execution_count": 1,
      "metadata": {
        "id": "x_Wo_tPhx8dB"
      },
      "outputs": [],
      "source": [
        "import numpy as np\n",
        "import matplotlib.pylab as plt"
      ]
    },
    {
      "cell_type": "markdown",
      "source": [
        "#Volcado de datos\n",
        "Una primera revisión sobre este conjunto de datos nos permite ver que es un csv separado por comas. No obstante, entre los datos aparecen direcciones que incluyen comas. Por este motivo, el primer paso que llevaremos a cabo es la modificación de las comas de las direcciones. \n",
        "\n",
        "Es fácil darse cuenta que todas las direcciones se escriben con coma seguida de espacio, por lo que para hacer esta modificación será suficiente con abrir el fichero, recorrerlo linea por linea con un fotr y, usando la función replace, substituir \", \" por \";\". La modificación de estos datos la guardaremos en un fichero distinto que llamaremos datosB.csv."
      ],
      "metadata": {
        "id": "VfQWUr2iyM3m"
      }
    },
    {
      "cell_type": "code",
      "source": [
        "with open(\"./data/Speculation_Watch_List.csv\",\"r\") as f1:\n",
        "  with open(\"./data/datosB.csv\",\"w\") as f2:\n",
        "    for i in f1:\n",
        "      n=i.replace(\", \", \";\")\n",
        "      f2.write(n)"
      ],
      "metadata": {
        "id": "RqNbhlZghJce"
      },
      "execution_count": 2,
      "outputs": []
    },
    {
      "cell_type": "markdown",
      "source": [
        "Mostramos los datos por pantalla para comprobar que se ha realizado correctamente, al igual que el número de filas (ya que es un valor fácil de mirar en el dataset origial para comprobr que coiciden)."
      ],
      "metadata": {
        "id": "D3LYOcOoU0Np"
      }
    },
    {
      "cell_type": "code",
      "source": [
        "aux=0\n",
        "with open(\"data/datosB.csv\",\"r\") as f2:\n",
        "    for n in f2:\n",
        "        aux+=1\n",
        "        print(n)\n",
        "        \n",
        "    print(aux)"
      ],
      "metadata": {
        "id": "vW6ajAV1ApWP"
      },
      "execution_count": null,
      "outputs": []
    },
    {
      "cell_type": "markdown",
      "source": [
        "De todos los datos que aparecen en el dataset solo vamos a usar el barrio, el precio de las viviendas y la tasa de capitalización, por lo que solo guardaremos las columnas de estas variables (que son la 1, la 11 y la 12). Además, al igual que antes, nos saltaremos la primera fila que es la que incluye los nombres de las columnas.\n",
        "\n",
        "A parte, nos guardaremos los nombres de de los barrios en la variable col_bor, que están en la columna 0 del conjunto de datos, usando dtype=str."
      ],
      "metadata": {
        "id": "-YUVzmndVNT4"
      }
    },
    {
      "cell_type": "code",
      "source": [
        "data=np.loadtxt('./data/datosB.csv', delimiter=\",\", usecols=(1,11,12), skiprows=1)\n",
        "col_bor=np.loadtxt('./data/datosB.csv', delimiter=\",\", usecols=(0), skiprows=1, dtype=str)"
      ],
      "metadata": {
        "id": "_mxgj5Pc367D"
      },
      "execution_count": 4,
      "outputs": []
    },
    {
      "cell_type": "markdown",
      "source": [
        "Para poder hacer estudios por barrios, necesitamos saber en que índices de nuestro conjunto de datos se encuentra cada barrio. Para ello crearemos un diccionario que nos diga para cada barrio que filas del dataset tenemos que mirar."
      ],
      "metadata": {
        "id": "QFSdgJksWgn4"
      }
    },
    {
      "cell_type": "code",
      "source": [
        "#Listado de barrios\n",
        "borough=np.unique(col_bor)\n",
        "#Diccionario con los indices que corresponde a cada barrio\n",
        "ind_dicc={}\n",
        "for i in range(len(borough)):\n",
        "  ind_dicc[borough[i]]=np.where(col_bor==borough[i])\n",
        "print(ind_dicc)"
      ],
      "metadata": {
        "id": "a6mjAT4-l-jZ"
      },
      "execution_count": null,
      "outputs": []
    },
    {
      "cell_type": "markdown",
      "source": [
        "#Análisis de los datos\n",
        "El primer indicador que estudiaremos es el precio medio y la desviación típica para cada barrio:"
      ],
      "metadata": {
        "id": "lFUmSRLIW943"
      }
    },
    {
      "cell_type": "code",
      "source": [
        "#Calculo de la media y desviacion tipica de precios por barrio\n",
        "media_precio=[]\n",
        "for i in range(len(borough)):\n",
        "  media=round(np.mean(data[ind_dicc[borough[i]], 1]),2)\n",
        "  desv=round(np.std(data[ind_dicc[borough[i]], 1]),2)\n",
        "  media_precio.append(media)\n",
        "  print(f\"En el barrio {borough[i]} tenemos un precio medio de {media}$, con una desviación típica de {desv}\")"
      ],
      "metadata": {
        "colab": {
          "base_uri": "https://localhost:8080/"
        },
        "id": "cscThNkEmbUX",
        "outputId": "1b93517f-6399-4338-c402-416197cb4894"
      },
      "execution_count": 7,
      "outputs": [
        {
          "output_type": "stream",
          "name": "stdout",
          "text": [
            "En el barrio BK tenemos un precio medio de 8691022.11$, con una desviación típica de 7989399.88\n",
            "En el barrio BX tenemos un precio medio de 6659420.79$, con una desviación típica de 4400425.32\n",
            "En el barrio MN tenemos un precio medio de 12382693.45$, con una desviación típica de 12075467.3\n",
            "En el barrio QN tenemos un precio medio de 9266994.21$, con una desviación típica de 9494142.08\n",
            "En el barrio SI tenemos un precio medio de 2206250.0$, con una desviación típica de 1088343.78\n"
          ]
        }
      ]
    },
    {
      "cell_type": "markdown",
      "source": [
        "Dibujemos la gráfica de este precio medio por barrio calculado:"
      ],
      "metadata": {
        "id": "YYz-IZUTXgKf"
      }
    },
    {
      "cell_type": "code",
      "source": [
        "#Gráfico de las medias de precio por barrio\n",
        "fig, ax=plt.subplots()\n",
        "ax.set_xlabel(\"Barrio\")\n",
        "ax.set_ylabel(\"Precio medio del barrio\")\n",
        "plt.suptitle(\"Gráfico del precio medio por barrio\")\n",
        "plt.bar(borough, media_precio)\n",
        "plt.show"
      ],
      "metadata": {
        "colab": {
          "base_uri": "https://localhost:8080/",
          "height": 325
        },
        "id": "BRKmrFiOoEfO",
        "outputId": "f97047e1-f648-430f-b714-975c580a3a4f"
      },
      "execution_count": 8,
      "outputs": [
        {
          "output_type": "execute_result",
          "data": {
            "text/plain": [
              "<function matplotlib.pyplot.show(*args, **kw)>"
            ]
          },
          "metadata": {},
          "execution_count": 8
        },
        {
          "output_type": "display_data",
          "data": {
            "text/plain": [
              "<Figure size 432x288 with 1 Axes>"
            ],
            "image/png": "[encoded data removed]"
          },
          "metadata": {
            "needs_background": "light"
          }
        }
      ]
    },
    {
      "cell_type": "markdown",
      "source": [
        "El segundo indicador serán los cuartiles del precio para cada barrio:"
      ],
      "metadata": {
        "id": "S0EZZ7arXsbG"
      }
    },
    {
      "cell_type": "code",
      "source": [
        "#Cuartiles de precios por barrio\n",
        "for i in borough:\n",
        "  q1=round(np.percentile(data[ind_dicc[i],1], 25), 2)\n",
        "  q2=round(np.percentile(data[ind_dicc[i],1], 50), 2)\n",
        "  q3=round(np.percentile(data[ind_dicc[i],1], 75), 2)\n",
        "  print(f'Los cuartiles de precio para el barrio {i} son: Q1={q1}  Q2={q2}  Q3={q3}')"
      ],
      "metadata": {
        "colab": {
          "base_uri": "https://localhost:8080/"
        },
        "id": "afd7gMHAp8oz",
        "outputId": "544efc33-c72d-47d7-9c79-b3f39d6ed935"
      },
      "execution_count": 9,
      "outputs": [
        {
          "output_type": "stream",
          "name": "stdout",
          "text": [
            "Los cuartiles de precio para el barrio BK son: Q1=4087500.0  Q2=6325000.0  Q3=9750000.0\n",
            "Los cuartiles de precio para el barrio BX son: Q1=3500000.0  Q2=5600000.0  Q3=8250000.0\n",
            "Los cuartiles de precio para el barrio MN son: Q1=6056250.0  Q2=8560193.0  Q3=14531250.0\n",
            "Los cuartiles de precio para el barrio QN son: Q1=3950000.0  Q2=5168000.0  Q3=10904167.0\n",
            "Los cuartiles de precio para el barrio SI son: Q1=1287500.0  Q2=2100000.0  Q3=3018750.0\n"
          ]
        }
      ]
    },
    {
      "cell_type": "markdown",
      "source": [
        "Pasemos ahora a calcular la media de la tasa de capitalización por barrios y su desviación típica:"
      ],
      "metadata": {
        "id": "YM3eJ-nxX3De"
      }
    },
    {
      "cell_type": "code",
      "source": [
        "#Media y desviacion tipica de la tasa de capitalizacion por barrios\n",
        "media_caprate=[]\n",
        "for i in range(len(borough)):\n",
        "  media=round(np.mean(data[ind_dicc[borough[i]], 2]),4)\n",
        "  desv=round(np.std(data[ind_dicc[borough[i]], 2]),4)\n",
        "  media_caprate.append(media)\n",
        "  print(f\"En el barrio {borough[i]} tenemos una tasa de capitalización media de {media}, con una desviación típica de {desv}\")"
      ],
      "metadata": {
        "colab": {
          "base_uri": "https://localhost:8080/"
        },
        "id": "MZhDLlWvrRss",
        "outputId": "8b0eceab-7e15-4ed0-beac-045a72f49309"
      },
      "execution_count": 10,
      "outputs": [
        {
          "output_type": "stream",
          "name": "stdout",
          "text": [
            "En el barrio BK tenemos una tasa de capitalización media de 0.0342, con una desviación típica de 0.0098\n",
            "En el barrio BX tenemos una tasa de capitalización media de 0.0345, con una desviación típica de 0.0067\n",
            "En el barrio MN tenemos una tasa de capitalización media de 0.0326, con una desviación típica de 0.0112\n",
            "En el barrio QN tenemos una tasa de capitalización media de 0.0343, con una desviación típica de 0.0087\n",
            "En el barrio SI tenemos una tasa de capitalización media de 0.0498, con una desviación típica de 0.0107\n"
          ]
        }
      ]
    },
    {
      "cell_type": "markdown",
      "source": [
        "Para poder interpretar más rápidamente estos resultados miremos el gráfico de la tasa de capitalización media:"
      ],
      "metadata": {
        "id": "AMKN0gu-YIHf"
      }
    },
    {
      "cell_type": "code",
      "source": [
        "#Gráfico de las medias de tasa de capitalizacion por barrio\n",
        "fig, ax=plt.subplots()\n",
        "ax.set_xlabel(\"Barrio\")\n",
        "ax.set_ylabel(\"Tasa de capitalización media\")\n",
        "plt.suptitle(\"Gráfico de la tasa de capitalización media por barrio\")\n",
        "plt.bar(borough, media_caprate)\n",
        "plt.show"
      ],
      "metadata": {
        "id": "_DonzUtvtPZa",
        "colab": {
          "base_uri": "https://localhost:8080/",
          "height": 325
        },
        "outputId": "965a92fe-6eaf-42a3-ed21-305783c42ebc"
      },
      "execution_count": 11,
      "outputs": [
        {
          "output_type": "execute_result",
          "data": {
            "text/plain": [
              "<function matplotlib.pyplot.show(*args, **kw)>"
            ]
          },
          "metadata": {},
          "execution_count": 11
        },
        {
          "output_type": "display_data",
          "data": {
            "text/plain": [
              "<Figure size 432x288 with 1 Axes>"
            ],
            "image/png": "[encoded data removed]"
          },
          "metadata": {
            "needs_background": "light"
          }
        }
      ]
    },
    {
      "cell_type": "markdown",
      "source": [
        "Finalmente, calcularemos el máximo y el mínimo de la tasa de capitalización para cada barrio, junto al precio que tiene la vivienda con esa tasa de capitalización:"
      ],
      "metadata": {
        "id": "RvCKO6PyYVhP"
      }
    },
    {
      "cell_type": "code",
      "source": [
        "#Pisos con mayor tasa de capitalizacion por barrio y su precio\n",
        "max_cap=[]\n",
        "min_cap=[]\n",
        "for i in range(len(borough)):\n",
        "  max=round(np.max(data[ind_dicc[borough[i]], 2]),4)\n",
        "  max_cap.append(max)\n",
        "  indice_max=np.where(data[ind_dicc[borough[i]][0],2]==max)[0]\n",
        "  precio_max=data[indice_max,1]\n",
        "  min=round(np.min(data[ind_dicc[borough[i]], 2]),4)\n",
        "  min_cap.append(min)\n",
        "  indice_min=np.where(data[ind_dicc[borough[i]][0],2]==min)[0]\n",
        "  precio_min=data[indice_min,1]\n",
        "  print(f\"En el barrio {borough[i]} tenemos una tasa de capitalización máxima de {max}\\nEl precio del/los piso/s con esta tasa es de: {precio_max}\\n\")\n",
        "  print(f\"En el barrio {borough[i]} tenemos una tasa de capitalización mínima de {min}\\nEl precio del/los piso/s con esta tasa es de: {precio_min}\\n\")"
      ],
      "metadata": {
        "id": "49WIlXiduAZD",
        "colab": {
          "base_uri": "https://localhost:8080/"
        },
        "outputId": "8fe4427e-5d1b-4e71-98b1-60cf0ab9111b"
      },
      "execution_count": 12,
      "outputs": [
        {
          "output_type": "stream",
          "name": "stdout",
          "text": [
            "En el barrio BK tenemos una tasa de capitalización máxima de 0.063\n",
            "El precio del/los piso/s con esta tasa es de: [2375000.]\n",
            "\n",
            "En el barrio BK tenemos una tasa de capitalización mínima de 0.012\n",
            "El precio del/los piso/s con esta tasa es de: [6800000.]\n",
            "\n",
            "En el barrio BX tenemos una tasa de capitalización máxima de 0.047\n",
            "El precio del/los piso/s con esta tasa es de: [3200000. 3310000. 8250000.]\n",
            "\n",
            "En el barrio BX tenemos una tasa de capitalización mínima de 0.019\n",
            "El precio del/los piso/s con esta tasa es de: [15000000.]\n",
            "\n",
            "En el barrio MN tenemos una tasa de capitalización máxima de 0.056\n",
            "El precio del/los piso/s con esta tasa es de: [9600000. 8595386.]\n",
            "\n",
            "En el barrio MN tenemos una tasa de capitalización mínima de 0.008\n",
            "El precio del/los piso/s con esta tasa es de: [4800000.]\n",
            "\n",
            "En el barrio QN tenemos una tasa de capitalización máxima de 0.055\n",
            "El precio del/los piso/s con esta tasa es de: [2600000.]\n",
            "\n",
            "En el barrio QN tenemos una tasa de capitalización mínima de 0.015\n",
            "El precio del/los piso/s con esta tasa es de: [4900000.]\n",
            "\n",
            "En el barrio SI tenemos una tasa de capitalización máxima de 0.068\n",
            "El precio del/los piso/s con esta tasa es de: [1825000.]\n",
            "\n",
            "En el barrio SI tenemos una tasa de capitalización mínima de 0.041\n",
            "El precio del/los piso/s con esta tasa es de: [6120000.]\n",
            "\n"
          ]
        }
      ]
    },
    {
      "cell_type": "markdown",
      "source": [
        "Hagamos el gráfico para verlo mejor:"
      ],
      "metadata": {
        "id": "P8kzBXvqYqXv"
      }
    },
    {
      "cell_type": "code",
      "source": [
        "#Gráfico de capitañizacion maxima y minima por barrio\n",
        "fig, ax=plt.subplots()\n",
        "ax.set_xlabel(\"Barrio\")\n",
        "ax.set_ylabel(\"Tasa de capitalización\")\n",
        "plt.suptitle(\"Gráfico de la tasa de capitalización máxima y mínima por barrio\")\n",
        "plt.bar(borough, max_cap, label=\"máximo\")\n",
        "plt.bar(borough, min_cap, label=\"mínimo\")\n",
        "ax.legend()\n",
        "plt.show()"
      ],
      "metadata": {
        "colab": {
          "base_uri": "https://localhost:8080/",
          "height": 308
        },
        "id": "t0Gz4IRM7CpH",
        "outputId": "4f7ec63e-dbf5-4366-c434-0e82926464db"
      },
      "execution_count": 13,
      "outputs": [
        {
          "output_type": "display_data",
          "data": {
            "text/plain": [
              "<Figure size 432x288 with 1 Axes>"
            ],
            "image/png": "[encoded data removed]"
          },
          "metadata": {
            "needs_background": "light"
          }
        }
      ]
    }
  ]
}