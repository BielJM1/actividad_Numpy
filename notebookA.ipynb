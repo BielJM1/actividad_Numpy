{
  "nbformat": 4,
  "nbformat_minor": 0,
  "metadata": {
    "colab": {
      "provenance": []
    },
    "kernelspec": {
      "name": "python3",
      "display_name": "Python 3"
    },
    "language_info": {
      "name": "python"
    }
  },
  "cells": [
    {
      "cell_type": "markdown",
      "source": [
        "Importamos las librerías"
      ],
      "metadata": {
        "id": "k_j1NOKHuZD0"
      }
    },
    {
      "cell_type": "code",
      "execution_count": null,
      "metadata": {
        "id": "YHoKt_rxuDOn"
      },
      "outputs": [],
      "source": [
        "import numpy as np\n",
        "import matplotlib.pylab as plt"
      ]
    },
    {
      "cell_type": "markdown",
      "source": [
        "#Volcado de datos\n",
        "Si nos fijamos en la estructura de los datos que vamos a usar, podemos ver que tenemos un dataset con solo tres columnas y que en la primera fila tenemos los nombres de estas columnas: Municipios, Fenómeno demográfico y Total.\n",
        "\n",
        "Esto quiere decir que, para poder acceder a la información de cada fenómeno demográfico por separado de un mismo municipio, en principio deberíamos guardar esa información en nuestra array. No obstante, las arrays de Numpy están pensadas para trabajar con valores númericos y no con strings, lo que nos dificulta hacer el volcado de datos directamente. Si estuviéramos trabajando con la librería pandas, sería tan sencillo como guardar todos los datos en un dataframe y agrupar los datos por fenómeno demográfico, pero esta no es una opción en Numpy.\n",
        "\n",
        "Si le damos una segunda ojeada, podemos ver que parece que los datos vienen dados agrupados por municipio y con los fenómenos demógraficos dados en el mismo orden para cada uno de ellos, siguiendo la estructura:\n",
        "\n",
        "* Municipio_a  \"nacidos vivos por residencia materna\"  x\n",
        "\n",
        "* Municipio_a  \"muertes fetales tardías por residencia materna\"  y\n",
        "\n",
        "* Municipio_a  \"matrimonios por el lugar en que han fijado residencia\"  z\n",
        "\n",
        "* Municipio_a  \"fallecidos por el lugar de residencia\"  t\n",
        "\n",
        "* Municipio_a  \"crecimiento vegetativo\"  w\n",
        "\n",
        "De esta manera, será suficiente guardar los datos de la primera y tercera columna, para luego recorrer los datos de 5 en 5 para saber los datos de un cierto fenómeno por municipio.\n",
        "\n",
        "Entonces, lo primero que haremos será guardar, mediante la función loadtext, los datos en la variable data. Hacemos usecols=(0,2) para solo coger la primera y tercera columna, nos saltamos la primera fila con los nombres de las columnas con skiprows=1 y usamos el converter que aparece abajo para quedarnos solo con el código postal del municipio que aparezca en cada fila. Dado que los municipios estan en el formato: \"CP Nombre\", aplicamos el método split al string y nos quedamos con la parte previa al espacio, convirtiendolo posteriormente a int (ya que los códigos postales son enteros).\n",
        "\n"
      ],
      "metadata": {
        "id": "ZVimuoPvuYbS"
      }
    },
    {
      "cell_type": "code",
      "source": [
        "data=np.loadtxt('./data/50376.csv', delimiter=\";\", usecols=(0,2), skiprows=1, converters = {0: lambda s: int(str(s.decode(encoding=\"latin1\")).split(\" \")[0]), 2: lambda s: int(str(s.decode(encoding=\"latin1\")).replace(\".\",\"\"))})"
      ],
      "metadata": {
        "id": "osTy9bPfulxz"
      },
      "execution_count": null,
      "outputs": []
    },
    {
      "cell_type": "markdown",
      "source": [
        "Para asegurarnos de que hay exactamente 5 fenómenos para cada uno de los municipios, usaremos la función unique para ver cuantas veces se repite cada código postal."
      ],
      "metadata": {
        "id": "KgJ-rzW63gL1"
      }
    },
    {
      "cell_type": "code",
      "source": [
        "CP, counts=np.unique(data[:,0], return_counts=True)\n",
        "print(np.unique(counts))"
      ],
      "metadata": {
        "colab": {
          "base_uri": "https://localhost:8080/"
        },
        "id": "fPd7tInv4EEC",
        "outputId": "0b2fdbb9-7d4f-440a-aa39-f5a61e65ff42"
      },
      "execution_count": null,
      "outputs": [
        {
          "output_type": "stream",
          "name": "stdout",
          "text": [
            "[5]\n"
          ]
        }
      ]
    },
    {
      "cell_type": "markdown",
      "source": [
        "Observemos que hemos guardado en CP todos los códigos postales que aparecen en nuestros datos y aplicando la función unique a counts vemos que todos se repiten 5 veces.\n",
        "\n",
        "Si quisieramos saber que tipos de fenómeno demográfico hay solo usando Numpy, sin necesitar habrir el documento csv, podríamos usar loadtext en la columna 1 y usando dtype=str para, posteriormente, aplicar la función unique.\n"
      ],
      "metadata": {
        "id": "hkcUZ7ZG43wV"
      }
    },
    {
      "cell_type": "code",
      "source": [
        "fen_dem=np.loadtxt('./data/50376.csv', delimiter=\";\", usecols=(1), skiprows=1, dtype=str)\n",
        "np.unique(fen_dem)"
      ],
      "metadata": {
        "colab": {
          "base_uri": "https://localhost:8080/"
        },
        "id": "qfV0sSDTQ_Cp",
        "outputId": "c0b69632-20ff-4653-b624-4fd821314150"
      },
      "execution_count": null,
      "outputs": [
        {
          "output_type": "execute_result",
          "data": {
            "text/plain": [
              "array(['crecimiento vegetativo', 'fallecidos por el lugar de residencia',\n",
              "       'matrimonios por el lugar en que han fijado residencia',\n",
              "       'muertes fetales tardías por residencia materna',\n",
              "       'nacidos vivos por residencia materna'], dtype='<U53')"
            ]
          },
          "metadata": {},
          "execution_count": 5
        }
      ]
    },
    {
      "cell_type": "markdown",
      "source": [
        "#Análisis de los datos\n",
        "Ahora que ya tenemos los datos guardados y hemos comprovado que no hay problemas, podemos empezar a estudiar los distintos indicadores propuestos. Empezaremos por la serie de por nacidos vivos por residencia materna. "
      ],
      "metadata": {
        "id": "e8QzJK4IyZvl"
      }
    },
    {
      "cell_type": "code",
      "source": [
        "#Serie de nacidos vivos por residencia materna\n",
        "nvrm=data[:,1][::5]\n",
        "print(nvrm)\n",
        "#Grafico de nacidos vivos por residencia materna\n",
        "fig, ax=plt.subplots()\n",
        "ax.set_xlabel(\"Municipio\")\n",
        "ax.set_ylabel(\"Nacidos vivos por residencia materna\")\n",
        "plt.suptitle(\"Gráfico de nacidos vivos por residencia materna.\")\n",
        "ax.plot(nvrm)"
      ],
      "metadata": {
        "colab": {
          "base_uri": "https://localhost:8080/",
          "height": 499
        },
        "id": "ktsM2f4060-s",
        "outputId": "93633efd-0487-4c9f-bd51-07ffeec056cb"
      },
      "execution_count": null,
      "outputs": [
        {
          "output_type": "stream",
          "name": "stdout",
          "text": [
            "[7.000e+01 4.700e+01 1.780e+02 5.800e+01 1.090e+02 6.000e+00 5.700e+01\n",
            " 3.000e+00 6.200e+01 1.000e+01 5.000e+01 3.400e+02 2.000e+01 1.000e+02\n",
            " 1.090e+02 4.100e+01 2.080e+02 3.500e+01 1.400e+01 5.000e+00 4.340e+02\n",
            " 3.000e+00 3.500e+01 1.000e+00 1.860e+02 3.900e+01 9.100e+01 4.000e+00\n",
            " 3.340e+02 1.600e+01 5.800e+01 2.400e+01 2.770e+02 4.450e+02 1.300e+01\n",
            " 2.390e+02 1.900e+01 2.640e+02 3.300e+01 6.000e+00 2.200e+01 7.700e+01\n",
            " 3.345e+03 2.600e+01 1.700e+02 1.300e+02 5.000e+01 1.300e+01 3.400e+01\n",
            " 2.300e+02 2.300e+01 5.200e+01 2.370e+02 6.100e+01 3.700e+01 8.000e+00\n",
            " 3.030e+02 9.200e+01 6.300e+01 8.600e+01 3.300e+01 2.800e+01 3.200e+01\n",
            " 9.400e+01 1.040e+02 1.300e+01 4.900e+01]\n"
          ]
        },
        {
          "output_type": "execute_result",
          "data": {
            "text/plain": [
              "[<matplotlib.lines.Line2D at 0x7f210bd2e0d0>]"
            ]
          },
          "metadata": {},
          "execution_count": 6
        },
        {
          "output_type": "display_data",
          "data": {
            "text/plain": [
              "<Figure size 432x288 with 1 Axes>"
            ],
            "image/png": "[encoded data removed]"
          },
          "metadata": {
            "needs_background": "light"
          }
        }
      ]
    },
    {
      "cell_type": "markdown",
      "source": [
        "Notemos que lo que aparece en el eje x es la posición del municipio en nuestra array. Para saber de que municipio se trata, tendríamos que mirar el valor de data[5*i, 0], donde i es el valor de municipio de nuestro gráfico.\n",
        "\n",
        "A continuación, presentamos la serie ordenada de fallecidos por lugar de residencia. Notemos que, tal y como presentamos los datos, al ordenar, perdemos la información sobre municipio se corresponde con cada valor del eje x en el siguiente gráfico."
      ],
      "metadata": {
        "id": "ZQJHPSCeDmJh"
      }
    },
    {
      "cell_type": "code",
      "source": [
        "#Serie ordenada de fallecidos por lugar de residencia \n",
        "fplr=data[:,1][3::5]\n",
        "print(np.sort(fplr))\n",
        "#Grafico de la serie ordenada\n",
        "fig, ax=plt.subplots()\n",
        "ax.set_ylabel(\"fallecidos por lugar de residencia\")\n",
        "plt.suptitle(\"Gráfico de fallecidos por lugar de residencia\")\n",
        "ax.plot(np.sort(fplr))"
      ],
      "metadata": {
        "colab": {
          "base_uri": "https://localhost:8080/",
          "height": 485
        },
        "id": "hHwAneQs8S1l",
        "outputId": "c322c183-a4f3-4058-a9a0-b156579b666a"
      },
      "execution_count": null,
      "outputs": [
        {
          "output_type": "stream",
          "name": "stdout",
          "text": [
            "[0.000e+00 2.000e+00 3.000e+00 3.000e+00 3.000e+00 4.000e+00 7.000e+00\n",
            " 8.000e+00 1.000e+01 1.000e+01 1.100e+01 1.200e+01 1.200e+01 1.700e+01\n",
            " 2.300e+01 2.400e+01 2.500e+01 2.800e+01 2.800e+01 2.900e+01 3.000e+01\n",
            " 3.000e+01 3.000e+01 3.000e+01 3.100e+01 3.900e+01 4.100e+01 4.200e+01\n",
            " 4.200e+01 4.300e+01 4.400e+01 4.500e+01 4.600e+01 4.900e+01 5.200e+01\n",
            " 5.200e+01 5.500e+01 5.500e+01 5.800e+01 5.900e+01 6.400e+01 6.500e+01\n",
            " 6.500e+01 7.100e+01 8.500e+01 9.100e+01 9.400e+01 1.030e+02 1.080e+02\n",
            " 1.080e+02 1.100e+02 1.280e+02 1.310e+02 1.340e+02 1.410e+02 1.510e+02\n",
            " 1.720e+02 1.890e+02 2.000e+02 2.180e+02 2.190e+02 2.290e+02 2.460e+02\n",
            " 2.940e+02 3.150e+02 3.410e+02 3.355e+03]\n"
          ]
        },
        {
          "output_type": "execute_result",
          "data": {
            "text/plain": [
              "[<matplotlib.lines.Line2D at 0x7f210b872160>]"
            ]
          },
          "metadata": {},
          "execution_count": 7
        },
        {
          "output_type": "display_data",
          "data": {
            "text/plain": [
              "<Figure size 432x288 with 1 Axes>"
            ],
            "image/png": "[encoded data removed]"
          },
          "metadata": {
            "needs_background": "light"
          }
        }
      ]
    },
    {
      "cell_type": "markdown",
      "source": [
        "Pasemos a calcular la media de cada uno de los fenómenos demográficos estudiados:"
      ],
      "metadata": {
        "id": "ba27Ukm2RNXI"
      }
    },
    {
      "cell_type": "code",
      "source": [
        "print(\"Media de nacidos vivos por residencia materna:\", round(np.mean(nvrm),2))\n",
        "print(\"Media de muertes fetales tardías por residencia materna:\", round(np.mean(data[:,1][1::5]),2))\n",
        "print(\"Media de matrimonios por el lugar en que han fijado residencia:\", round(np.mean(data[:,1][2::5]),2))\n",
        "print(\"Media de fallecidos por el lugar de residencia:\", round(np.mean(fplr),2))\n",
        "print(\"Media de crecimiento vegetativo:\", round(np.mean(data[:,1][4::5]),2))"
      ],
      "metadata": {
        "colab": {
          "base_uri": "https://localhost:8080/"
        },
        "id": "TfVcu6yh8l3T",
        "outputId": "a7fee8f6-aba9-49a5-e973-d8d0f824d0d1"
      },
      "execution_count": null,
      "outputs": [
        {
          "output_type": "stream",
          "name": "stdout",
          "text": [
            "Media de nacidos vivos por residencia materna: 141.12\n",
            "Media de muertes fetales tardías por residencia materna: 0.6\n",
            "Media de matrimonios por el lugar en que han fijado residencia: 44.18\n",
            "Media de fallecidos por el lugar de residencia: 127.75\n",
            "Media de crecimiento vegetativo: 13.37\n"
          ]
        }
      ]
    },
    {
      "cell_type": "markdown",
      "source": [
        "Finalmente, calculemos la desviación típica de los fenómenos demográficos estudiados:"
      ],
      "metadata": {
        "id": "RnhEFDvERb8g"
      }
    },
    {
      "cell_type": "code",
      "source": [
        "print(\"Desviación típica de nacidos vivos por residencia materna:\", round(np.std(nvrm),2))\n",
        "print(\"Desviación típica de muertes fetales tardías por residencia materna:\", round(np.std(data[:,1][1::5]),2))\n",
        "print(\"Desviación típica de matrimonios por el lugar en que han fijado residencia:\", round(np.std(data[:,1][2::5]),2))\n",
        "print(\"Desviación típica de fallecidos por el lugar de residencia:\", round(np.std(fplr),2))\n",
        "print(\"Desviación típica de crecimiento vegetativo:\", round(np.std(data[:,1][4::5]),2))"
      ],
      "metadata": {
        "colab": {
          "base_uri": "https://localhost:8080/"
        },
        "id": "iRsHZGWt805L",
        "outputId": "fee83ec8-7138-4de2-edf9-3b8ee4568b7e"
      },
      "execution_count": null,
      "outputs": [
        {
          "output_type": "stream",
          "name": "stdout",
          "text": [
            "Desviación típica de nacidos vivos por residencia materna: 408.25\n",
            "Desviación típica de muertes fetales tardías por residencia materna: 2.04\n",
            "Desviación típica de matrimonios por el lugar en que han fijado residencia: 135.04\n",
            "Desviación típica de fallecidos por el lugar de residencia: 405.29\n",
            "Desviación típica de crecimiento vegetativo: 32.63\n"
          ]
        }
      ]
    }
  ]
}